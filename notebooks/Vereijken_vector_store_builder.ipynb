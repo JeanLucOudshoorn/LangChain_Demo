{
 "cells": [
  {
   "cell_type": "markdown",
   "id": "3c5060a4-b9af-4c8e-8d67-cd83159e2b96",
   "metadata": {},
   "source": [
    "# Vereijken vector store builder"
   ]
  },
  {
   "cell_type": "code",
   "execution_count": 10,
   "id": "116a3381-f6b5-48a1-9690-effe165d92d4",
   "metadata": {},
   "outputs": [],
   "source": [
    "import os\n",
    "import glob\n",
    "import openai\n",
    "from dotenv import load_dotenv\n",
    "from langchain_community.vectorstores import FAISS\n",
    "from langchain_openai import OpenAIEmbeddings\n",
    "from langchain_community.document_loaders import SeleniumURLLoader\n",
    "from langchain_community.document_loaders import UnstructuredPDFLoader, UnstructuredPowerPointLoader"
   ]
  },
  {
   "cell_type": "markdown",
   "id": "d404a0bd-ba89-4d3e-8479-aa50c0c97944",
   "metadata": {},
   "source": [
    "To use OpenAI models online we need an API key, which you can request on the OpenAI website. The best way to keep this key is in a hidden `.env` file."
   ]
  },
  {
   "cell_type": "code",
   "execution_count": 11,
   "id": "a92d1374-e33e-4889-851a-278b14c4e891",
   "metadata": {},
   "outputs": [],
   "source": [
    "# Load the environment\n",
    "load_dotenv()\n",
    "openai.api_key = os.environ[\"OPENAI_API_KEY\"]"
   ]
  },
  {
   "cell_type": "markdown",
   "id": "27b442fd-8297-4f52-b806-f68da7276515",
   "metadata": {},
   "source": [
    "Initialize an empty list to hold the documents and specify a location"
   ]
  },
  {
   "cell_type": "code",
   "execution_count": 12,
   "id": "8da13bee-d28d-4f61-b13e-c04dc77ef508",
   "metadata": {},
   "outputs": [],
   "source": [
    "# Initialize pages\n",
    "pages = []\n",
    "\n",
    "# Define the directory\n",
    "directory = '../Vereijken_input'"
   ]
  },
  {
   "cell_type": "markdown",
   "id": "0baeb749-4885-468a-a431-1ab6f17956de",
   "metadata": {},
   "source": [
    "Loop over the directory and convert all pages to documents according to their file type."
   ]
  },
  {
   "cell_type": "code",
   "execution_count": 13,
   "id": "53ae24d8-89d6-4372-87dc-7c2775fb3a09",
   "metadata": {},
   "outputs": [
    {
     "name": "stdout",
     "output_type": "stream",
     "text": [
      "Processing: ../Vereijken_input\\20221202 Proposal Vereijken V4.pptx\n",
      "Processing: ../Vereijken_input\\20221202 Proposal Vereijken V5.pptx\n",
      "Processing: ../Vereijken_input\\20230302_Vereijken Impact story slide.pptx\n",
      "Processing: ../Vereijken_input\\20230317_Optimalisatiemodel energieverbruik.pptx\n",
      "Processing: ../Vereijken_input\\20230329_BrightCape_project_Vereijken.pdf\n",
      "Processing: ../Vereijken_input\\Vereijken_dutch_and_english_13062023.pptx\n"
     ]
    }
   ],
   "source": [
    "# Loop over all files in the directory\n",
    "for filename in glob.glob(os.path.join(directory, '*')):\n",
    "    # Check the file extension\n",
    "    if filename.endswith('.pdf'):\n",
    "        loader = UnstructuredPDFLoader(filename)\n",
    "        print(f\"Processing: {filename}\")\n",
    "    elif filename.endswith('.pptx'):\n",
    "        loader = UnstructuredPowerPointLoader(filename)\n",
    "        print(f\"Processing: {filename}\")\n",
    "    else:\n",
    "        continue  # Skip files with other extensions\n",
    "\n",
    "    # Load and split the file, then add to pages\n",
    "    pages += loader.load_and_split()"
   ]
  },
  {
   "cell_type": "code",
   "execution_count": 14,
   "id": "22f2b7c7-ebc5-4f9b-af68-8900c3280a8f",
   "metadata": {},
   "outputs": [
    {
     "name": "stdout",
     "output_type": "stream",
     "text": [
      "Length of pages: 44\n"
     ]
    }
   ],
   "source": [
    "print(f\"Length of pages: {len(pages)}\")"
   ]
  },
  {
   "cell_type": "markdown",
   "id": "3ac0e197-bb76-4e65-bdbb-be89f0e868dd",
   "metadata": {},
   "source": [
    "We can also read data from a website. We will add the Vereijken home page here."
   ]
  },
  {
   "cell_type": "code",
   "execution_count": 15,
   "id": "5a4eff34-a7b6-46d1-9006-41deeeaf87d3",
   "metadata": {},
   "outputs": [
    {
     "name": "stdout",
     "output_type": "stream",
     "text": [
      "Length of pages after URL loader: 45\n"
     ]
    }
   ],
   "source": [
    "# Add the website\n",
    "urls = [\n",
    "    \"https://vereijkenkwekerijen.nl/?lang=en\",\n",
    "]\n",
    "\n",
    "# collect data using selenium url loader\n",
    "loader = SeleniumURLLoader(urls=urls)\n",
    "pages += loader.load_and_split()\n",
    "\n",
    "print(f\"Length of pages after URL loader: {len(pages)}\")"
   ]
  },
  {
   "cell_type": "markdown",
   "id": "884e0c0f-6240-4d43-b03a-b2fcf1b95e33",
   "metadata": {},
   "source": [
    "We can check out the webiste content"
   ]
  },
  {
   "cell_type": "code",
   "execution_count": 16,
   "id": "b8ba7d01-541e-4972-b8d9-8516161294a6",
   "metadata": {},
   "outputs": [
    {
     "data": {
      "text/plain": [
       "'Home\\n\\nTomatoes\\n\\nCultivation process\\n\\nVacancies\\n\\nContact\\n\\n\\tBranches\\n\\nlogin portal\\n\\n\\n\\nHome\\n\\nTomatoes\\n\\nCultivation process\\n\\nVacancies\\n\\nContact\\n\\n\\tBranches\\n\\nlogin portal\\n\\n\\n\\nFrom greenhouse to fresh on the shelf\\n\\nWe grow our vine tomatoes on more than 50 hectares, divided over 6 grow locations in the province of Noord-Brabant and the Westland area. Thanks to 40 hectares of illuminated cultivation, customers can count on us all year round. The tomatoes are packed and prepared for the customer at Vereijken Logistics and Triomaas Logistics, our packing locations.\\n\\nIf you want to find out more about the different steps until the tomatoes are on the supermarket shelf, click on ‘More information’ to view the cultivation process.\\n\\nMore information\\n\\nVacancies\\n\\nWant to be part of a family business and work in a progressive and result-oriented organisation with high-quality products? View our current vacancies and apply today!\\n\\nUnsolicited application\\nWant to work at Vereijken Kwekerijen, but not sure in what position or direction?\\n\\nAll vacancies\\n\\nVereijken is a modern company where working together is of paramount importance.\\t\\n\\tGeert-Jan van Rixtel \\t\\t\\t\\tPlant Manager at the Beek en Donk branch\\n\\n\\n\\n\\n\\nVereijken is a modern cultivation company where working together is of paramount importance.\\n\\nA progressive working environment\\n\\nVereijken Kwekerijen is an environment characterised by an open culture, short lines of communication and energetic, enthusiastic and result-oriented employees. We employ 100 members of staff, supplemented with seasonal workers in the high season. We believe in the strength of our employees in which space for personal development comes first.\\n\\nMore information\\n\\nContact\\n\\nVereijken Kwekerijen\\n\\nPeeldijk 6a\\n\\n5741 PC Beek en Donk\\n\\ninfo@vereijkenkwekerijen.nl\\n\\n+31 (0)492-461345\\n\\nBranches\\n\\nAarle-Rixtel\\n\\nBeek en Donk\\n\\nHeusden\\n\\nSomeren 1\\n\\nSomeren 2\\n\\n‘s-Gravenzande\\n\\nHorst\\n\\nPrivacy-statement\\n\\nDisclaimer\\n\\nStart typing and press Enter to search\\n\\nWij gebruiken cookies om het gebruik op onze website te vergemakkelijken. U kunt deze cookies uitzetten via uw browser, maar dit kan het functioneren van onze website negatief aantasten.AccepterenWeigeren Lees meer\\n\\nPrivacy & Cookies Policy\\n\\nClose\\n\\nPrivacy Overview\\n\\nThis website uses cookies to improve your experience while you navigate through the website. Out of these, the cookies that are categorized as necessary are stored on your browser as they are essential for the working of basic functionalities of the ...\\n\\nNecessary\\n\\nAlways Enabled\\n\\nNecessary cookies are absolutely essential for the website to function properly. This category only includes cookies that ensures basic functionalities and security features of the website. These cookies do not store any personal information.\\n\\nNon-necessary\\n\\nNon-necessary\\n\\nAny cookies that may not be particularly necessary for the website to function and is used specifically to collect user personal data via analytics, ads, other embedded contents are termed as non-necessary cookies. It is mandatory to procure user consent prior to running these cookies on your website.\\n\\nSAVE & ACCEPT'"
      ]
     },
     "execution_count": 16,
     "metadata": {},
     "output_type": "execute_result"
    }
   ],
   "source": [
    "pages[44].page_content"
   ]
  },
  {
   "cell_type": "markdown",
   "id": "a0c2b620-4f23-4741-9ea1-ae4692e3e213",
   "metadata": {},
   "source": [
    "We will remove any tab and new line characters to clean up the text a bit."
   ]
  },
  {
   "cell_type": "code",
   "execution_count": 17,
   "id": "ff3134db-7fb7-42f4-ba30-f12a7f86b5ad",
   "metadata": {},
   "outputs": [
    {
     "name": "stdout",
     "output_type": "stream",
     "text": [
      "Length of pages after preprocessing: 45\n"
     ]
    }
   ],
   "source": [
    "# Light preprocessing\n",
    "for page in pages:\n",
    "    page.page_content = str(page.page_content).replace(\"\\\\n\", \" \")\\\n",
    "                                              .replace(\"\\\\t\", \" \")\\\n",
    "                                              .replace(\"\\n\", \" \")\\\n",
    "                                              .replace(\"\\t\", \" \")\n",
    "\n",
    "print(f\"Length of pages after preprocessing: {len(pages)}\")"
   ]
  },
  {
   "cell_type": "markdown",
   "id": "0a75df3f-ed52-49a4-90f2-aadeb3085f10",
   "metadata": {},
   "source": [
    "Now we convert this to a vectorstore with OpenAI embeddings."
   ]
  },
  {
   "cell_type": "code",
   "execution_count": 18,
   "id": "197dc66a-d18d-4ee0-ba06-0a88524fc041",
   "metadata": {},
   "outputs": [],
   "source": [
    "# Create the vectorstore\n",
    "vectorstore = FAISS.from_documents(pages, OpenAIEmbeddings())\n",
    "\n",
    "# Save the vectorstore\n",
    "vectorstore.save_local('../vector_stores/vereijken.faiss')"
   ]
  },
  {
   "cell_type": "markdown",
   "id": "f0ec0243-54ac-4b28-93a8-992209501f5d",
   "metadata": {},
   "source": [
    "Convert the vector store into a retriever"
   ]
  },
  {
   "cell_type": "code",
   "execution_count": 19,
   "id": "62a0b742-9a69-4f35-bb47-c675f31bc97e",
   "metadata": {},
   "outputs": [],
   "source": [
    "# Create retriever\n",
    "retriever = vectorstore.as_retriever(search_type='mmr',\n",
    "                                     search_kwargs={'k': 1, \"score_threshold\": 0.0})"
   ]
  },
  {
   "cell_type": "markdown",
   "id": "2f6f7ed4-354e-4d7d-ac99-f4f26f147be6",
   "metadata": {},
   "source": [
    "Let's use the retriever as a stand-alone object"
   ]
  },
  {
   "cell_type": "code",
   "execution_count": 20,
   "id": "fa1b2767-67f1-4afd-b9a0-f1fb3116fc40",
   "metadata": {},
   "outputs": [],
   "source": [
    "found_documents = retriever.invoke(\"What kind of model is used for this optimization problem?\")"
   ]
  },
  {
   "cell_type": "markdown",
   "id": "dec57a7f-24dc-4c52-8eb4-7d98445e55b1",
   "metadata": {},
   "source": [
    "You can see that when asking what model is used for the optimization problem, a page is returned that described the model. You can also see what the cleaned up text in the document looks like. "
   ]
  },
  {
   "cell_type": "code",
   "execution_count": 21,
   "id": "1a5ea4d5-5b6d-498f-8ed8-6231660230ac",
   "metadata": {},
   "outputs": [
    {
     "data": {
      "text/plain": [
       "[Document(page_content='Oplossing    Een geautomatiseerd optimalisatiemodel dat het optimale gebruik van de WKK-eenheden vindt, op basis van de interne energievraag en de marktprijzen voor energie afname en energie terug levering.  Het optimalisatiemodel geeft inzicht in de prestaties van beslissingen voor het gebruik van WKK-eenheden in het verleden.  Uiteindelijk zal het optimalisatiemodel worden gebruikt om het optimale gebruik van de WKK-eenheden te voorspellen, op basis van voorspelde marktprijzen.  10-15% kosten besparing*  in energie verbruik  *Preliminair  Inzicht in prestatie  Van voorgaande beslissingen m.b.t. energie productie en verbruik   6    Overzicht van energiekosten besparing  Nederlandse glastuinbouw  10-15% kosten besparing*  in energie verbruik  *Preliminair  Inzicht in prestatie  Van voorgaande beslissingen m.b.t. energie productie en verbruik   7    Resultaat  Genereren van output (excel)  Totale kosten per vestiging  Close-up per vestiging  Kosten  Gas en apx prijzen  Inzet wkk’s  Inzet belichting  Grafieken  8    Back-up  9    Probleem definitie  Data input  Data output  Goal  Voorwaarden   Wiskundige methode  Input data validatie  Planning  10    Documentatie  Document opstellen  Voorwaarden   Berekeningen validatie  Wiskundige formulatie  Implementeren!  11    Modelling  Gebruikte programma’s en kosten  Structuur van de code   Valideren van uitkomst  Documentatie  12', metadata={'source': '../Vereijken_input\\\\20230317_Optimalisatiemodel energieverbruik.pptx'})]"
      ]
     },
     "execution_count": 21,
     "metadata": {},
     "output_type": "execute_result"
    }
   ],
   "source": [
    "found_documents"
   ]
  },
  {
   "cell_type": "markdown",
   "id": "a14f27a1-f9db-4f40-a81d-12a22324bbba",
   "metadata": {},
   "source": [
    "Posing the query in Dutch doesn't affect the result"
   ]
  },
  {
   "cell_type": "code",
   "execution_count": 22,
   "id": "aeaa9764-bf2b-4a6e-a944-0b55136cf500",
   "metadata": {},
   "outputs": [],
   "source": [
    "found_documents_nederlands = retriever.invoke(\"Welk soort model wordt gebruikt voor dit optimalisatieprobleem?\")"
   ]
  },
  {
   "cell_type": "code",
   "execution_count": 23,
   "id": "fb54be55-70c6-4478-a76c-7765b3468d9f",
   "metadata": {},
   "outputs": [
    {
     "data": {
      "text/plain": [
       "[Document(page_content='Oplossing    Een geautomatiseerd optimalisatiemodel dat het optimale gebruik van de WKK-eenheden vindt, op basis van de interne energievraag en de marktprijzen voor energie afname en energie terug levering.  Het optimalisatiemodel geeft inzicht in de prestaties van beslissingen voor het gebruik van WKK-eenheden in het verleden.  Uiteindelijk zal het optimalisatiemodel worden gebruikt om het optimale gebruik van de WKK-eenheden te voorspellen, op basis van voorspelde marktprijzen.  10-15% kosten besparing*  in energie verbruik  *Preliminair  Inzicht in prestatie  Van voorgaande beslissingen m.b.t. energie productie en verbruik   6    Overzicht van energiekosten besparing  Nederlandse glastuinbouw  10-15% kosten besparing*  in energie verbruik  *Preliminair  Inzicht in prestatie  Van voorgaande beslissingen m.b.t. energie productie en verbruik   7    Resultaat  Genereren van output (excel)  Totale kosten per vestiging  Close-up per vestiging  Kosten  Gas en apx prijzen  Inzet wkk’s  Inzet belichting  Grafieken  8    Back-up  9    Probleem definitie  Data input  Data output  Goal  Voorwaarden   Wiskundige methode  Input data validatie  Planning  10    Documentatie  Document opstellen  Voorwaarden   Berekeningen validatie  Wiskundige formulatie  Implementeren!  11    Modelling  Gebruikte programma’s en kosten  Structuur van de code   Valideren van uitkomst  Documentatie  12', metadata={'source': '../Vereijken_input\\\\20230317_Optimalisatiemodel energieverbruik.pptx'})]"
      ]
     },
     "execution_count": 23,
     "metadata": {},
     "output_type": "execute_result"
    }
   ],
   "source": [
    "found_documents_nederlands"
   ]
  },
  {
   "cell_type": "markdown",
   "id": "dfbc9e22-abe4-42c6-aef1-156991e7c5f0",
   "metadata": {},
   "source": [
    "We take an example case study from the website (in this case Covolt)"
   ]
  },
  {
   "cell_type": "code",
   "execution_count": 24,
   "id": "e13a6ed2-240b-44b5-972b-7dc668c527f6",
   "metadata": {},
   "outputs": [],
   "source": [
    "# Sections of example case study\n",
    "sections = [\n",
    "\"\"\"\n",
    "Client profile\n",
    "Client: Covolt\n",
    "Industry: Solar energy\n",
    "Process: Asset management\n",
    "\n",
    "Covolt B.V. is a company in the renewable energy sector, where they employ their intelligent energy management system.\n",
    "This system optimizes the production of solar parks and automatically offers the energy to the market. This results in\n",
    "a substantial improvement in both efficiency and reliability of these parks.\n",
    "\"\"\",\n",
    "\n",
    "\"\"\"\n",
    "The problem\n",
    "As part of their energy management solution, Covolt aims to predict future energy production for one day-ahead and\n",
    "intraday periods. This predictive capability would enable them to refine their supply bids on the market,\n",
    "as the effectiveness of energy trading heavily relies on accurate predictions of the production. Within this framework,\n",
    "the primary challenges lie in training forecasting models with limited historical data (± 2 years) and generating\n",
    "predictions for entirely new locations that lack any historical data.\n",
    "\"\"\",\n",
    "\n",
    "\"\"\"\n",
    "Approach\n",
    "Bright Cape has trained multiple machine learning models to forecast energy production, utilizing both internal and\n",
    "external data sources. Since weather data was indicated as the primary forecasting driver, a comparison study of\n",
    "various external weather sources was conducted to select the most accurate weather APIs. Subsequently,\n",
    "Bright Cape assisted in creating the foundational data infrastructure to retrieve and integrate these diverse\n",
    "data sources.\n",
    "\n",
    "Next, this infrastructure was extended by setting up dedicated training, validation, and forecasting pipelines to\n",
    "ensure continuous operability on the Microsoft Azure cloud platform. These pipelines were designed with modularity\n",
    "in mind, facilitating the simultaneous development, evaluation, and deployment of both one day-ahead and intraday\n",
    "forecasting models. Furthermore, a roll-out strategy was implemented to enable the scalability of the models across\n",
    "locations throughout the Netherlands, including entirely new sites without sufficient available data.\n",
    "\n",
    "Feature importance techniques were used to assess the significance of each variable and to determine the most\n",
    "significant predictors, including factors like irradiation and time of the year. These techniques provide valuable\n",
    "insights for data scientists and business users into what the model has learned from the data and improves the\n",
    "model’s transparency.\n",
    "\"\"\",\n",
    "\n",
    "\"\"\"\n",
    "Solutions and added value\n",
    "Bright Cape assisted in the design, development, and deployment of the forecasting pipelines and the underlying data\n",
    "infrastructure. The trained models significantly outperformed both the baseline market prediction strategies for\n",
    "the pilot locations. Forecasting errors were cut in halve, where hourly day-ahead forecasting errors were reduced from\n",
    "3.3% to 1.5%, and 15-minute intraday forecasting errors improving from 4.7% to 2.3%. Consequently, this led to more\n",
    "effective energy trading on the market and increased profit margins. Additionally, the project yielded a return on\n",
    "investment in under a year as it enabled the acquisition of new clientele.\n",
    "\n",
    "Results\n",
    "ROI < 1 year\n",
    "as the project enabled the acquisition of new clientele\n",
    "\n",
    "From 3.3 to 1.5%\n",
    "reduced hourly day-ahead baseline forecasting error\n",
    "\n",
    "From 4.7 to 2.3%\n",
    "reduced 15-min intra-day baseline forecasting error\n",
    "\"\"\"\n",
    "]\n"
   ]
  },
  {
   "cell_type": "markdown",
   "id": "dfe4e159-6d3f-4c82-ba08-5af49019182c",
   "metadata": {},
   "source": [
    "We do some light preprocessing again and create a vector store from texts instead of documents."
   ]
  },
  {
   "cell_type": "code",
   "execution_count": 25,
   "id": "3f7944d7-93e8-43f2-856a-e65c209ef5f5",
   "metadata": {},
   "outputs": [],
   "source": [
    "# Light preprocessing\n",
    "for i in range(len(sections)):\n",
    "    sections[i] = sections[i].replace(\"\\\\n\", \" \") \\\n",
    "                             .replace(\"\\\\t\", \" \") \\\n",
    "                             .replace(\"\\n\", \" \") \\\n",
    "                             .replace(\"\\t\", \" \") \\\n",
    "\n",
    "# Example vector store\n",
    "example_vector_store = FAISS.from_texts(sections, OpenAIEmbeddings())"
   ]
  },
  {
   "cell_type": "markdown",
   "id": "07e33df7-eff5-44b4-8714-b4c007034ba3",
   "metadata": {},
   "source": [
    "We can also test out the example retriever"
   ]
  },
  {
   "cell_type": "code",
   "execution_count": 26,
   "id": "93a09a42-cc5f-48fd-80d5-301673784055",
   "metadata": {},
   "outputs": [],
   "source": [
    "# Create retriever\n",
    "example_retriever = example_vector_store.as_retriever(search_type='mmr',\n",
    "                                                      search_kwargs={'k': 1, \"score_threshold\": 0.0})"
   ]
  },
  {
   "cell_type": "code",
   "execution_count": 27,
   "id": "eed64a14-d890-4248-9b59-8e2204cee0d7",
   "metadata": {},
   "outputs": [],
   "source": [
    "found_doc = example_retriever.invoke(\"Client profile\")"
   ]
  },
  {
   "cell_type": "code",
   "execution_count": 28,
   "id": "ecce6eda-0a91-43fe-aa62-c99284040a0c",
   "metadata": {},
   "outputs": [
    {
     "data": {
      "text/plain": [
       "[Document(page_content=' Client profile Client: Covolt Industry: Solar energy Process: Asset management  Covolt B.V. is a company in the renewable energy sector, where they employ their intelligent energy management system. This system optimizes the production of solar parks and automatically offers the energy to the market. This results in a substantial improvement in both efficiency and reliability of these parks. ')]"
      ]
     },
     "execution_count": 28,
     "metadata": {},
     "output_type": "execute_result"
    }
   ],
   "source": [
    "found_doc"
   ]
  },
  {
   "cell_type": "markdown",
   "id": "b123c813-91f7-4038-9bc3-7f7b4e303bdc",
   "metadata": {},
   "source": [
    "We save the example vector store"
   ]
  },
  {
   "cell_type": "code",
   "execution_count": 29,
   "id": "3340e339-78f6-44bf-bc37-26481b7214dc",
   "metadata": {},
   "outputs": [],
   "source": [
    "# Save the vectorstore\n",
    "example_vector_store.save_local('../vector_stores/covolt_case_study_example.faiss')"
   ]
  },
  {
   "cell_type": "code",
   "execution_count": null,
   "id": "b1e7cbf2-f491-4e57-a54d-75cae518292d",
   "metadata": {},
   "outputs": [],
   "source": []
  }
 ],
 "metadata": {
  "kernelspec": {
   "display_name": "Python 3 (ipykernel)",
   "language": "python",
   "name": "python3"
  },
  "language_info": {
   "codemirror_mode": {
    "name": "ipython",
    "version": 3
   },
   "file_extension": ".py",
   "mimetype": "text/x-python",
   "name": "python",
   "nbconvert_exporter": "python",
   "pygments_lexer": "ipython3",
   "version": "3.12.3"
  }
 },
 "nbformat": 4,
 "nbformat_minor": 5
}
