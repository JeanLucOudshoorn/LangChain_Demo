{
 "cells": [
  {
   "cell_type": "markdown",
   "id": "53a6568b-5cfc-41c3-a4de-792cb39033b9",
   "metadata": {
    "collapsed": true,
    "jupyter": {
     "outputs_hidden": true
    }
   },
   "source": [
    "# Case study writer"
   ]
  },
  {
   "cell_type": "code",
   "execution_count": 17,
   "id": "1a6328b3-3919-4176-a52d-1ed92fdf1670",
   "metadata": {},
   "outputs": [],
   "source": [
    "# Imports\n",
    "import os\n",
    "import openai\n",
    "from dotenv import load_dotenv\n",
    "from langchain_community.vectorstores import FAISS\n",
    "from langchain_core.output_parsers import StrOutputParser\n",
    "from langchain_core.prompts import ChatPromptTemplate\n",
    "from langchain_core.runnables import RunnableParallel, RunnablePassthrough\n",
    "from langchain_openai import ChatOpenAI, OpenAIEmbeddings"
   ]
  },
  {
   "cell_type": "markdown",
   "id": "8d895152-4fe8-4d7d-bb7d-78d6b3234828",
   "metadata": {},
   "source": [
    "To use OpenAI models online we need an API key, which you can request on the OpenAI website. The best way to keep this key is in a hidden `.env` file."
   ]
  },
  {
   "cell_type": "code",
   "execution_count": 18,
   "id": "aa0fe9bc-4bac-4d97-9dd5-7c81f076d961",
   "metadata": {},
   "outputs": [],
   "source": [
    "# Load the API key\n",
    "load_dotenv()\n",
    "openai.api_key = os.environ[\"OPENAI_API_KEY\"]"
   ]
  },
  {
   "cell_type": "markdown",
   "id": "e6179adf-1923-4d8e-bbe4-c522c811960c",
   "metadata": {},
   "source": [
    "We have converted the documents we want to use as reference material into a vector store. Now we can load this vector store to use it. We will also load a separate vector store with examples from the Covolt case study (this could have been any other case study)."
   ]
  },
  {
   "cell_type": "code",
   "execution_count": 19,
   "id": "1e4138be-01df-4b2c-b50a-39598f29902d",
   "metadata": {},
   "outputs": [],
   "source": [
    "# Load Vereijken vector store\n",
    "vector_store = FAISS.load_local('../vector_stores/vereijken.faiss', OpenAIEmbeddings(),\n",
    "                                allow_dangerous_deserialization=True)\n",
    "\n",
    "# Create retriever\n",
    "retriever = vector_store.as_retriever(search_type='mmr',\n",
    "                                      search_kwargs={'k': 4, \"score_threshold\": 0.25})\n",
    "\n",
    "# Load Example vector store\n",
    "example_vector_store = FAISS.load_local('../vector_stores/vereijken.faiss', OpenAIEmbeddings(),\n",
    "                                        allow_dangerous_deserialization=True)\n",
    "\n",
    "# Create retriever\n",
    "example_retriever = example_vector_store.as_retriever(search_type='mmr',\n",
    "                                                      search_kwargs={'k': 1})"
   ]
  },
  {
   "cell_type": "markdown",
   "id": "be494232-1b02-4e83-b834-50a95b23cdd5",
   "metadata": {},
   "source": [
    "Now we can instantiate the model"
   ]
  },
  {
   "cell_type": "code",
   "execution_count": 20,
   "id": "ba05caf6-7906-4eaf-823f-3a7f4c60be5b",
   "metadata": {},
   "outputs": [],
   "source": [
    "# Instantiate the model\n",
    "model = ChatOpenAI(model=\"gpt-4o\")"
   ]
  },
  {
   "cell_type": "markdown",
   "id": "54ad96b1-b05d-4428-af70-a451526a235c",
   "metadata": {},
   "source": [
    "The prompt should contain enough context and detailed instructions so that the model can generate output that is as close to the user's expectation as possible. This is called prompt engineering and usually requires several iterations to get right. \n",
    "\n",
    "Some of the things written in the prompt were only added on the second or third iteration: \n",
    "- Do not write more than indicated in the instruction. Avoid repetition and keep the \n",
    "sections relatively concise and short.\n",
    "- Do not explain what type of company Bright Cape is, only focus on the client company and the application. \n",
    "- Only write things relevant to the current section. For example, when asked to write a client profile, only write a \n",
    "client profile; do not go into the challenges or model."
   ]
  },
  {
   "cell_type": "code",
   "execution_count": 21,
   "id": "eb92e76b-b70d-4b5b-98ec-9787ba65fc38",
   "metadata": {},
   "outputs": [],
   "source": [
    "# Build a prompt template\n",
    "template = \"\"\"\n",
    "You are an expert copy writer that writes sections of a case study for a professional website of a data\n",
    "consultancy firm (Bright Cape). The case studies highlight specific data science / engineering / visualization \n",
    "applications that have been developed for a client. You will receive an exact instruction, an example and information \n",
    "about the client company and application to guide you. Do as the instruction states and make extensive use of the \n",
    "example and additional information. Do not write more than indicated in the instruction. Avoid repetition and keep the \n",
    "sections relatively concise and short.\n",
    "\n",
    "Instruction:\n",
    "{instruction}\n",
    "\n",
    "Keep the tone professional but approachable and not too dry. Give enough detail to show that Bright Cape employs \n",
    "competent specialists, but not so much that a PhD is needed to understand. Stay very close to the format shown in the \n",
    "example. Do not explain what type of company Bright Cape is, only focus on the client company and the application. \n",
    "Only write things relevant to the current section. For example, when asked to write a client profile, only write a \n",
    "client profile; do not go into the challenges or model.\n",
    "\n",
    "Let's think step by step.\n",
    "\n",
    "Here is an example to guide you:\n",
    "{example}\n",
    "\n",
    "Use the following information about the company and application:\n",
    "{context}\n",
    "\"\"\""
   ]
  },
  {
   "cell_type": "markdown",
   "id": "8f638c2f-32a6-49d7-b017-bef372864d3e",
   "metadata": {},
   "source": [
    "Here we define a `RunnableParallel`; we can query the retriever and example retriever at the same time. The instruction is used to query the retrievers but is also passed on to the next step (the LLM) in order to write an answer."
   ]
  },
  {
   "cell_type": "code",
   "execution_count": 22,
   "id": "cbf9710f-3fc9-4c50-9156-0b8976a68d13",
   "metadata": {},
   "outputs": [],
   "source": [
    "prompt = ChatPromptTemplate.from_template(template)\n",
    "output_parser = StrOutputParser()\n",
    "\n",
    "setup_and_retrieval = RunnableParallel(\n",
    "    {\"context\": retriever, \"example\": example_retriever, \"instruction\": RunnablePassthrough()}\n",
    ")"
   ]
  },
  {
   "cell_type": "markdown",
   "id": "03a7476a-6bec-4094-b524-421e5b643703",
   "metadata": {},
   "source": [
    "We write a separate instruction for each section of the case study, including the desired length."
   ]
  },
  {
   "cell_type": "code",
   "execution_count": 23,
   "id": "4746bf70-9379-4316-b4a1-43616c8516f6",
   "metadata": {},
   "outputs": [],
   "source": [
    "# Define company\n",
    "company_name = \"Vereijken Kwekerijen\"\n",
    "\n",
    "# Instructions\n",
    "instructions = [\n",
    "    f\"Write a client profile for {company_name} of no more than a few sentences, \"\n",
    "    f\"explaining what industry they are in, what they do, and what their vision is\",\n",
    "    f\"Write a section explaining the unique challenges and problems that {company_name} was facing of 1-2 paragraphs\",\n",
    "    f\"Write a section explaining Bright Cape's approach to solve the problems {company_name} was facing of 2-3 paragraphs, \"\n",
    "    f\"explain what type of model was used and why\",\n",
    "    f\"Write a section explaining the results and the impact that the solution has had for {company_name} of 1-2 paragraphs. \"\n",
    "    f\"Use numbers to quantify the impact, such as a percentage reduction in cost\"\n",
    " ]\n"
   ]
  },
  {
   "cell_type": "markdown",
   "id": "bf235717-f51e-4d7c-bef1-6a69c75cdc1d",
   "metadata": {},
   "source": [
    "Now we can set up the full chain and loop over the instructions, eacht time calling the model with a new instructions and appending the output to our list. "
   ]
  },
  {
   "cell_type": "code",
   "execution_count": 24,
   "id": "bfb0ea03-587b-4d6d-8837-0d5c96518cab",
   "metadata": {},
   "outputs": [],
   "source": [
    "# Set up section writing chain with LCEL\n",
    "section_writing_chain = setup_and_retrieval | prompt | model | output_parser\n",
    "\n",
    "# Create an empty list for written sections\n",
    "written_sections = []\n",
    "\n",
    "# Iteratively call the LLM to the sections\n",
    "for instruction in instructions:\n",
    "    response = section_writing_chain.invoke(instruction)\n",
    "    written_sections.append(response)"
   ]
  },
  {
   "cell_type": "code",
   "execution_count": 25,
   "id": "9873da71-9450-4713-9f2d-c46a98959cbd",
   "metadata": {},
   "outputs": [
    {
     "data": {
      "text/plain": [
       "'Vereijken Kwekerijen operates in the greenhouse horticulture industry, specializing in the cultivation of vine tomatoes. With over 50 hectares of growing space across multiple locations in Noord-Brabant and the Westland area, they ensure year-round supply through 40 hectares of illuminated cultivation. Their vision is to create a progressive, result-oriented environment that emphasizes collaboration and personal development, ensuring high-quality products and efficient processes.'"
      ]
     },
     "execution_count": 25,
     "metadata": {},
     "output_type": "execute_result"
    }
   ],
   "source": [
    "written_sections[0]"
   ]
  },
  {
   "cell_type": "code",
   "execution_count": 26,
   "id": "04777561-8186-4f00-b19f-664e0366ccdf",
   "metadata": {},
   "outputs": [
    {
     "data": {
      "text/plain": [
       "'Vereijken Kwekerijen, a modern vine tomato cultivation company, was facing significant challenges in optimizing the use of their combined heat and power (CHP) systems and lighting installations spread across multiple greenhouses. The company needed to balance the production of CO2, heat, and electricity from the CHPs with the fluctuating energy demands of the greenhouses and the variable prices on the energy market. This complexity made it difficult to determine the optimal operation schedule for the CHPs and lighting, leading to potential inefficiencies and higher operational costs.\\n\\nThe existing manual approach to managing these systems was time-consuming and labor-intensive, involving the use of an Excel-based tool that could only analyze costs on a daily basis. This tool required the energy manager to manually test various operational scenarios, which did not guarantee finding the optimal solution. Moreover, this method was impractical for forecasting future needs due to the significant effort required. As a result, there was a clear need for a more automated and efficient system to optimize resource use and reduce costs.'"
      ]
     },
     "execution_count": 26,
     "metadata": {},
     "output_type": "execute_result"
    }
   ],
   "source": [
    "written_sections[1]"
   ]
  },
  {
   "cell_type": "code",
   "execution_count": 27,
   "id": "dd4233a1-a6d5-4dcb-8b81-2a151bcbca72",
   "metadata": {},
   "outputs": [
    {
     "data": {
      "text/plain": [
       "\"To address the challenges faced by Vereijken Kwekerijen, Bright Cape adopted a methodical approach centered on developing an automated optimization model. This model was designed to streamline the decision-making process regarding the operation of gas-powered combined heat and power (CHP) units. Vereijken's existing process involved manually testing and comparing various combinations to determine the optimal use of these units, which was not only time-consuming but also lacked assurance of achieving the most cost-effective solution. \\n\\nBright Cape's solution harnessed the power of linear programming to create a robust model that could minimize total energy costs by optimizing the use of CHP units. This model considered multiple variables such as gas and electricity consumption costs, potential revenue from returning excess electricity to the grid, and the operational constraints of the CHP units. By automating this process, the model could efficiently explore countless combinations and identify the optimal schedules for the CHP units, thereby reducing manual intervention and ensuring more reliable and cost-effective outcomes. The choice of linear programming was pivotal due to its capability to handle complex optimization problems with multiple constraints and objectives, making it an ideal fit for Vereijken's needs.\""
      ]
     },
     "execution_count": 27,
     "metadata": {},
     "output_type": "execute_result"
    }
   ],
   "source": [
    "written_sections[2]"
   ]
  },
  {
   "cell_type": "code",
   "execution_count": 28,
   "id": "1394ae8d-2edb-4574-a6b5-65fa50bbd851",
   "metadata": {},
   "outputs": [
    {
     "data": {
      "text/plain": [
       "\"The implementation of the automated optimization model has yielded remarkable results for Vereijken Kwekerijen. By fine-tuning the use of their gas-powered cogeneration units, Vereijken has achieved a significant reduction in energy costs. Specifically, the optimization model led to a 12% decrease in energy consumption, translating into substantial cost savings. This reduction is a testament to the model's efficiency in balancing the internal energy demands with the fluctuating market prices for energy supply and return.\\n\\nFurthermore, the model has provided valuable insights into past energy management decisions, helping Vereijken refine their strategies going forward. The collaboration between Bright Cape's data scientists and Vereijken's product experts has culminated in a robust solution that not only optimizes current resource usage but also lays the groundwork for future improvements. This enhanced energy management process positions Vereijken Kwekerijen to maintain its competitive edge in the greenhouse horticulture industry.\""
      ]
     },
     "execution_count": 28,
     "metadata": {},
     "output_type": "execute_result"
    }
   ],
   "source": [
    "written_sections[3]"
   ]
  },
  {
   "cell_type": "markdown",
   "id": "2a113516-2a60-4f7a-8584-84afdfa282cf",
   "metadata": {},
   "source": [
    "We can now set up a final template to do some post-processing. The purpose of this is to give us a smoother transition from one section to the next. We also ask the LLM to come up with a title based on some good examples."
   ]
  },
  {
   "cell_type": "code",
   "execution_count": 29,
   "id": "7c36bfbe-4454-477d-9409-6178ac04395c",
   "metadata": {},
   "outputs": [],
   "source": [
    "# Define the final template\n",
    "final_template = \"\"\"\n",
    "You are an expert copy writer that writes a full case study from separate sections for a data consultancy firm.\n",
    "There are four sections in total, which are provided below in the correct order. Do not alter the content of \n",
    "the sections too much, as they are already correct. You are only allowed to delete or rewrite a sentence here and there.\n",
    " Your aim is to create a cohesive whole out of the separate sections, with a focus in particular on a natural,\n",
    " smooth transition from one section to the next. However, the sections should remain separated: keep the headers in \n",
    " between the sections. Keep the tone professional but approachable and not too dry. Avoid repetition and keep the \n",
    " sections relatively concise.\n",
    "\n",
    "Please find the four sections below:\n",
    "\n",
    "### Section 1: Client Profile\n",
    "{section1}\n",
    "\n",
    "### Section 2: Unique Challenges and Problems\n",
    "{section2}\n",
    "\n",
    "### Section 3: Bright Cape's Approach\n",
    "{section3}\n",
    "\n",
    "### Section 4: Results and Impact\n",
    "{section4}\n",
    "\n",
    "Also write a good consulting title for the piece. Here are some examples of good titles:\n",
    "- An AI power play: Fueling the next wave of innovation in the energy sector\n",
    "- From farm to tablet: Building a new business to solve an old challenge\n",
    "- Building a next-generation carbon platform to accelerate the path to net zero\n",
    "- Banking on innovation: How ING uses generative AI to put people first\n",
    "\"\"\"\n"
   ]
  },
  {
   "cell_type": "markdown",
   "id": "361a1b90-ada4-4fc6-9b8d-98cccf5cbe71",
   "metadata": {},
   "source": [
    "We can now set up the full chain and final template."
   ]
  },
  {
   "cell_type": "code",
   "execution_count": 30,
   "id": "a330878c-10c1-4bd2-a5b3-1d7585020963",
   "metadata": {},
   "outputs": [],
   "source": [
    "final_prompt = ChatPromptTemplate.from_template(final_template)\n",
    "\n",
    "# LangChain Expressive Language chain syntax\n",
    "chain = final_prompt | model | output_parser"
   ]
  },
  {
   "cell_type": "markdown",
   "id": "b9e98f8f-540d-4c3a-a33d-8bfbc3b3ff19",
   "metadata": {},
   "source": [
    "This time when invoking the chain we do not have to give an explicit instruction since it is already in the prompt, but we pass the separate sections from the list into the correct places."
   ]
  },
  {
   "cell_type": "code",
   "execution_count": 31,
   "id": "60b5fd7a-492a-49d8-9f8e-d0503edc303a",
   "metadata": {},
   "outputs": [
    {
     "data": {
      "text/plain": [
       "\"### Illuminating Efficiency: How Bright Cape Optimized Energy Management for Vereijken Kwekerijen\\n\\n### Section 1: Client Profile\\nVereijken Kwekerijen operates in the greenhouse horticulture industry, specializing in the cultivation of vine tomatoes. With over 50 hectares of growing space across multiple locations in Noord-Brabant and the Westland area, they ensure year-round supply through 40 hectares of illuminated cultivation. Their vision is to create a progressive, result-oriented environment that emphasizes collaboration and personal development, ensuring high-quality products and efficient processes.\\n\\n### Section 2: Unique Challenges and Problems\\nVereijken Kwekerijen, a modern vine tomato cultivation company, was facing significant challenges in optimizing the use of their combined heat and power (CHP) systems and lighting installations spread across multiple greenhouses. The company needed to balance the production of CO2, heat, and electricity from the CHPs with the fluctuating energy demands of the greenhouses and the variable prices on the energy market. This complexity made it difficult to determine the optimal operation schedule for the CHPs and lighting, leading to potential inefficiencies and higher operational costs.\\n\\nThe existing manual approach to managing these systems was time-consuming and labor-intensive, involving the use of an Excel-based tool that could only analyze costs on a daily basis. This tool required the energy manager to manually test various operational scenarios, which did not guarantee finding the optimal solution. Moreover, this method was impractical for forecasting future needs due to the significant effort required. As a result, there was a clear need for a more automated and efficient system to optimize resource use and reduce costs.\\n\\n### Section 3: Bright Cape's Approach\\nTo address the challenges faced by Vereijken Kwekerijen, Bright Cape adopted a methodical approach centered on developing an automated optimization model. This model was designed to streamline the decision-making process regarding the operation of gas-powered combined heat and power (CHP) units. Vereijken's existing process involved manually testing and comparing various combinations to determine the optimal use of these units, which was not only time-consuming but also lacked assurance of achieving the most cost-effective solution.\\n\\nBright Cape's solution harnessed the power of linear programming to create a robust model that could minimize total energy costs by optimizing the use of CHP units. This model considered multiple variables such as gas and electricity consumption costs, potential revenue from returning excess electricity to the grid, and the operational constraints of the CHP units. By automating this process, the model could efficiently explore countless combinations and identify the optimal schedules for the CHP units, thereby reducing manual intervention and ensuring more reliable and cost-effective outcomes. The choice of linear programming was pivotal due to its capability to handle complex optimization problems with multiple constraints and objectives, making it an ideal fit for Vereijken's needs.\\n\\n### Section 4: Results and Impact\\nThe implementation of the automated optimization model has yielded remarkable results for Vereijken Kwekerijen. By fine-tuning the use of their gas-powered cogeneration units, Vereijken has achieved a significant reduction in energy costs. Specifically, the optimization model led to a 12% decrease in energy consumption, translating into substantial cost savings. This reduction is a testament to the model's efficiency in balancing the internal energy demands with the fluctuating market prices for energy supply and return.\\n\\nFurthermore, the model has provided valuable insights into past energy management decisions, helping Vereijken refine their strategies going forward. The collaboration between Bright Cape's data scientists and Vereijken's product experts has culminated in a robust solution that not only optimizes current resource usage but also lays the groundwork for future improvements. This enhanced energy management process positions Vereijken Kwekerijen to maintain its competitive edge in the greenhouse horticulture industry.\""
      ]
     },
     "execution_count": 31,
     "metadata": {},
     "output_type": "execute_result"
    }
   ],
   "source": [
    "# Print output\n",
    "full_case_study = chain.invoke({'section1': written_sections[0],\n",
    "                                'section2': written_sections[1],\n",
    "                                'section3': written_sections[2],\n",
    "                                'section4': written_sections[3]})\n",
    "\n",
    "full_case_study"
   ]
  },
  {
   "cell_type": "markdown",
   "id": "c4dafb70-7846-49e4-b7dc-27e286a84749",
   "metadata": {},
   "source": [
    "Finally we can save the case study as a text file."
   ]
  },
  {
   "cell_type": "code",
   "execution_count": 16,
   "id": "89eb2c0d-4d5a-41a9-996b-ae57415ec6f1",
   "metadata": {},
   "outputs": [
    {
     "name": "stdout",
     "output_type": "stream",
     "text": [
      "\n",
      "The full case study was successfully saved\n"
     ]
    }
   ],
   "source": [
    "# Save the string 'full_case_study' to a .txt file\n",
    "with open('../results/full_case_study_4o_3.txt', 'w') as f:\n",
    "    f.write(full_case_study)\n",
    "\n",
    "print(\"\\nThe full case study was successfully saved\")"
   ]
  },
  {
   "cell_type": "code",
   "execution_count": null,
   "id": "af7774b1-7388-4b52-85c7-3729f1e5ce82",
   "metadata": {},
   "outputs": [],
   "source": []
  }
 ],
 "metadata": {
  "kernelspec": {
   "display_name": "Python 3 (ipykernel)",
   "language": "python",
   "name": "python3"
  },
  "language_info": {
   "codemirror_mode": {
    "name": "ipython",
    "version": 3
   },
   "file_extension": ".py",
   "mimetype": "text/x-python",
   "name": "python",
   "nbconvert_exporter": "python",
   "pygments_lexer": "ipython3",
   "version": "3.12.3"
  }
 },
 "nbformat": 4,
 "nbformat_minor": 5
}
